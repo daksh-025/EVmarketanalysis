{
  "cells": [
    {
      "cell_type": "markdown",
      "id": "d317426a",
      "metadata": {
        "papermill": {
          "duration": 0.013254,
          "end_time": "2022-12-17T17:42:55.045109",
          "exception": false,
          "start_time": "2022-12-17T17:42:55.031855",
          "status": "completed"
        },
        "tags": [],
        "id": "d317426a"
      },
      "source": [
        "### Hello all in this notebook i will be doing EDA On the Electric vehicle population data, i have used various visualizations to represent data in an appealing way, Please do leave an upvote if you like my work"
      ]
    },
    {
      "cell_type": "code",
      "execution_count": 29,
      "id": "d9b4b7f5",
      "metadata": {
        "execution": {
          "iopub.execute_input": "2022-12-17T17:42:55.070849Z",
          "iopub.status.busy": "2022-12-17T17:42:55.070066Z",
          "iopub.status.idle": "2022-12-17T17:42:57.432852Z",
          "shell.execute_reply": "2022-12-17T17:42:57.431723Z"
        },
        "papermill": {
          "duration": 2.376912,
          "end_time": "2022-12-17T17:42:57.435768",
          "exception": false,
          "start_time": "2022-12-17T17:42:55.058856",
          "status": "completed"
        },
        "tags": [],
        "id": "d9b4b7f5"
      },
      "outputs": [],
      "source": [
        "import pandas as pd\n",
        "import numpy as np\n",
        "import seaborn as sns\n",
        "import matplotlib.pyplot as plt\n",
        "from sklearn.metrics import mean_squared_error\n",
        "import xgboost as xgb\n",
        "from xgboost import plot_tree\n",
        "\n"
      ]
    },
    {
      "cell_type": "code",
      "execution_count": 14,
      "id": "9b81cc73",
      "metadata": {
        "execution": {
          "iopub.execute_input": "2022-12-17T17:42:57.456785Z",
          "iopub.status.busy": "2022-12-17T17:42:57.456361Z",
          "iopub.status.idle": "2022-12-17T17:42:58.263901Z",
          "shell.execute_reply": "2022-12-17T17:42:58.262587Z"
        },
        "papermill": {
          "duration": 0.822102,
          "end_time": "2022-12-17T17:42:58.266746",
          "exception": false,
          "start_time": "2022-12-17T17:42:57.444644",
          "status": "completed"
        },
        "tags": [],
        "id": "9b81cc73"
      },
      "outputs": [],
      "source": [
        "df = pd.read_csv('/content/Electric_Vehicle_Population_Data.csv')\n"
      ]
    },
    {
      "cell_type": "code",
      "source": [
        "total_electric = df.pivot_table(columns=['Model Year'], aggfunc='size')\n",
        "print(total_electric)"
      ],
      "metadata": {
        "colab": {
          "base_uri": "https://localhost:8080/"
        },
        "id": "viwBegtr7_Hb",
        "outputId": "42934f4d-0a90-47ec-bfe2-4bc6e8b92e5c"
      },
      "id": "viwBegtr7_Hb",
      "execution_count": 15,
      "outputs": [
        {
          "output_type": "stream",
          "name": "stdout",
          "text": [
            "Model Year\n",
            "1997        1\n",
            "1999        2\n",
            "2000        5\n",
            "2008       11\n",
            "2010       15\n",
            "2011      425\n",
            "2012      860\n",
            "2013     2370\n",
            "2014     1896\n",
            "2015     2559\n",
            "2016     2856\n",
            "2017     4503\n",
            "2018     7278\n",
            "2019     5265\n",
            "2020     5682\n",
            "2021     9228\n",
            "2022    13559\n",
            "2023      930\n",
            "dtype: int64\n"
          ]
        }
      ]
    },
    {
      "cell_type": "code",
      "source": [
        "Ncars = total_electric.reset_index()\n",
        "Ncars = Ncars.rename(columns={\"Model Year\": \"year\", 0: \"total_cars\"})\n",
        "# Drop 2023 cause there are not enough values\n",
        "Ncars = Ncars.drop([0, 10])\n",
        "Ncars"
      ],
      "metadata": {
        "colab": {
          "base_uri": "https://localhost:8080/",
          "height": 551
        },
        "id": "nNHtOzPM8DEM",
        "outputId": "6528fe88-2cdb-47e0-c1a0-02366887c9d3"
      },
      "id": "nNHtOzPM8DEM",
      "execution_count": 17,
      "outputs": [
        {
          "output_type": "execute_result",
          "data": {
            "text/plain": [
              "    year  total_cars\n",
              "1   1999           2\n",
              "2   2000           5\n",
              "3   2008          11\n",
              "4   2010          15\n",
              "5   2011         425\n",
              "6   2012         860\n",
              "7   2013        2370\n",
              "8   2014        1896\n",
              "9   2015        2559\n",
              "11  2017        4503\n",
              "12  2018        7278\n",
              "13  2019        5265\n",
              "14  2020        5682\n",
              "15  2021        9228\n",
              "16  2022       13559\n",
              "17  2023         930"
            ],
            "text/html": [
              "\n",
              "  <div id=\"df-0f676980-dd03-4dff-a106-09a125391a2f\">\n",
              "    <div class=\"colab-df-container\">\n",
              "      <div>\n",
              "<style scoped>\n",
              "    .dataframe tbody tr th:only-of-type {\n",
              "        vertical-align: middle;\n",
              "    }\n",
              "\n",
              "    .dataframe tbody tr th {\n",
              "        vertical-align: top;\n",
              "    }\n",
              "\n",
              "    .dataframe thead th {\n",
              "        text-align: right;\n",
              "    }\n",
              "</style>\n",
              "<table border=\"1\" class=\"dataframe\">\n",
              "  <thead>\n",
              "    <tr style=\"text-align: right;\">\n",
              "      <th></th>\n",
              "      <th>year</th>\n",
              "      <th>total_cars</th>\n",
              "    </tr>\n",
              "  </thead>\n",
              "  <tbody>\n",
              "    <tr>\n",
              "      <th>1</th>\n",
              "      <td>1999</td>\n",
              "      <td>2</td>\n",
              "    </tr>\n",
              "    <tr>\n",
              "      <th>2</th>\n",
              "      <td>2000</td>\n",
              "      <td>5</td>\n",
              "    </tr>\n",
              "    <tr>\n",
              "      <th>3</th>\n",
              "      <td>2008</td>\n",
              "      <td>11</td>\n",
              "    </tr>\n",
              "    <tr>\n",
              "      <th>4</th>\n",
              "      <td>2010</td>\n",
              "      <td>15</td>\n",
              "    </tr>\n",
              "    <tr>\n",
              "      <th>5</th>\n",
              "      <td>2011</td>\n",
              "      <td>425</td>\n",
              "    </tr>\n",
              "    <tr>\n",
              "      <th>6</th>\n",
              "      <td>2012</td>\n",
              "      <td>860</td>\n",
              "    </tr>\n",
              "    <tr>\n",
              "      <th>7</th>\n",
              "      <td>2013</td>\n",
              "      <td>2370</td>\n",
              "    </tr>\n",
              "    <tr>\n",
              "      <th>8</th>\n",
              "      <td>2014</td>\n",
              "      <td>1896</td>\n",
              "    </tr>\n",
              "    <tr>\n",
              "      <th>9</th>\n",
              "      <td>2015</td>\n",
              "      <td>2559</td>\n",
              "    </tr>\n",
              "    <tr>\n",
              "      <th>11</th>\n",
              "      <td>2017</td>\n",
              "      <td>4503</td>\n",
              "    </tr>\n",
              "    <tr>\n",
              "      <th>12</th>\n",
              "      <td>2018</td>\n",
              "      <td>7278</td>\n",
              "    </tr>\n",
              "    <tr>\n",
              "      <th>13</th>\n",
              "      <td>2019</td>\n",
              "      <td>5265</td>\n",
              "    </tr>\n",
              "    <tr>\n",
              "      <th>14</th>\n",
              "      <td>2020</td>\n",
              "      <td>5682</td>\n",
              "    </tr>\n",
              "    <tr>\n",
              "      <th>15</th>\n",
              "      <td>2021</td>\n",
              "      <td>9228</td>\n",
              "    </tr>\n",
              "    <tr>\n",
              "      <th>16</th>\n",
              "      <td>2022</td>\n",
              "      <td>13559</td>\n",
              "    </tr>\n",
              "    <tr>\n",
              "      <th>17</th>\n",
              "      <td>2023</td>\n",
              "      <td>930</td>\n",
              "    </tr>\n",
              "  </tbody>\n",
              "</table>\n",
              "</div>\n",
              "      <button class=\"colab-df-convert\" onclick=\"convertToInteractive('df-0f676980-dd03-4dff-a106-09a125391a2f')\"\n",
              "              title=\"Convert this dataframe to an interactive table.\"\n",
              "              style=\"display:none;\">\n",
              "        \n",
              "  <svg xmlns=\"http://www.w3.org/2000/svg\" height=\"24px\"viewBox=\"0 0 24 24\"\n",
              "       width=\"24px\">\n",
              "    <path d=\"M0 0h24v24H0V0z\" fill=\"none\"/>\n",
              "    <path d=\"M18.56 5.44l.94 2.06.94-2.06 2.06-.94-2.06-.94-.94-2.06-.94 2.06-2.06.94zm-11 1L8.5 8.5l.94-2.06 2.06-.94-2.06-.94L8.5 2.5l-.94 2.06-2.06.94zm10 10l.94 2.06.94-2.06 2.06-.94-2.06-.94-.94-2.06-.94 2.06-2.06.94z\"/><path d=\"M17.41 7.96l-1.37-1.37c-.4-.4-.92-.59-1.43-.59-.52 0-1.04.2-1.43.59L10.3 9.45l-7.72 7.72c-.78.78-.78 2.05 0 2.83L4 21.41c.39.39.9.59 1.41.59.51 0 1.02-.2 1.41-.59l7.78-7.78 2.81-2.81c.8-.78.8-2.07 0-2.86zM5.41 20L4 18.59l7.72-7.72 1.47 1.35L5.41 20z\"/>\n",
              "  </svg>\n",
              "      </button>\n",
              "      \n",
              "  <style>\n",
              "    .colab-df-container {\n",
              "      display:flex;\n",
              "      flex-wrap:wrap;\n",
              "      gap: 12px;\n",
              "    }\n",
              "\n",
              "    .colab-df-convert {\n",
              "      background-color: #E8F0FE;\n",
              "      border: none;\n",
              "      border-radius: 50%;\n",
              "      cursor: pointer;\n",
              "      display: none;\n",
              "      fill: #1967D2;\n",
              "      height: 32px;\n",
              "      padding: 0 0 0 0;\n",
              "      width: 32px;\n",
              "    }\n",
              "\n",
              "    .colab-df-convert:hover {\n",
              "      background-color: #E2EBFA;\n",
              "      box-shadow: 0px 1px 2px rgba(60, 64, 67, 0.3), 0px 1px 3px 1px rgba(60, 64, 67, 0.15);\n",
              "      fill: #174EA6;\n",
              "    }\n",
              "\n",
              "    [theme=dark] .colab-df-convert {\n",
              "      background-color: #3B4455;\n",
              "      fill: #D2E3FC;\n",
              "    }\n",
              "\n",
              "    [theme=dark] .colab-df-convert:hover {\n",
              "      background-color: #434B5C;\n",
              "      box-shadow: 0px 1px 3px 1px rgba(0, 0, 0, 0.15);\n",
              "      filter: drop-shadow(0px 1px 2px rgba(0, 0, 0, 0.3));\n",
              "      fill: #FFFFFF;\n",
              "    }\n",
              "  </style>\n",
              "\n",
              "      <script>\n",
              "        const buttonEl =\n",
              "          document.querySelector('#df-0f676980-dd03-4dff-a106-09a125391a2f button.colab-df-convert');\n",
              "        buttonEl.style.display =\n",
              "          google.colab.kernel.accessAllowed ? 'block' : 'none';\n",
              "\n",
              "        async function convertToInteractive(key) {\n",
              "          const element = document.querySelector('#df-0f676980-dd03-4dff-a106-09a125391a2f');\n",
              "          const dataTable =\n",
              "            await google.colab.kernel.invokeFunction('convertToInteractive',\n",
              "                                                     [key], {});\n",
              "          if (!dataTable) return;\n",
              "\n",
              "          const docLinkHtml = 'Like what you see? Visit the ' +\n",
              "            '<a target=\"_blank\" href=https://colab.research.google.com/notebooks/data_table.ipynb>data table notebook</a>'\n",
              "            + ' to learn more about interactive tables.';\n",
              "          element.innerHTML = '';\n",
              "          dataTable['output_type'] = 'display_data';\n",
              "          await google.colab.output.renderOutput(dataTable, element);\n",
              "          const docLink = document.createElement('div');\n",
              "          docLink.innerHTML = docLinkHtml;\n",
              "          element.appendChild(docLink);\n",
              "        }\n",
              "      </script>\n",
              "    </div>\n",
              "  </div>\n",
              "  "
            ]
          },
          "metadata": {},
          "execution_count": 17
        }
      ]
    },
    {
      "cell_type": "code",
      "source": [
        "#Store columns in x and y variables\n",
        "x = Ncars[\"year\"]\n",
        "y = Ncars[\"total_cars\"]"
      ],
      "metadata": {
        "id": "dnCzLcWO8hs1"
      },
      "id": "dnCzLcWO8hs1",
      "execution_count": 19,
      "outputs": []
    },
    {
      "cell_type": "code",
      "source": [
        "X_train = x.to_numpy()\n",
        "y_train = y.to_numpy()\n",
        "X_train= X_train.reshape(-1, 1)\n",
        "y_train = y_train.reshape(-1, 1)"
      ],
      "metadata": {
        "id": "bh_LGNBz8ZEa"
      },
      "id": "bh_LGNBz8ZEa",
      "execution_count": 20,
      "outputs": []
    },
    {
      "cell_type": "code",
      "source": [
        "dtrain = xgb.DMatrix(X_train, label=y_train)"
      ],
      "metadata": {
        "id": "p7E0SCt58aGk"
      },
      "id": "p7E0SCt58aGk",
      "execution_count": 23,
      "outputs": []
    },
    {
      "cell_type": "code",
      "source": [
        "model = xgb.train(params, dtrain, num_boost_round=100)\n"
      ],
      "metadata": {
        "id": "FCC9vQsxAqv8"
      },
      "id": "FCC9vQsxAqv8",
      "execution_count": 30,
      "outputs": []
    },
    {
      "cell_type": "code",
      "source": [
        "plot_tree(model, num_trees=0, rankdir='LR')\n",
        "plt.show()"
      ],
      "metadata": {
        "colab": {
          "base_uri": "https://localhost:8080/",
          "height": 182
        },
        "id": "yKyExb5E-gv3",
        "outputId": "62964c32-f6de-4388-d376-f9d761670a63"
      },
      "id": "yKyExb5E-gv3",
      "execution_count": 31,
      "outputs": [
        {
          "output_type": "display_data",
          "data": {
            "text/plain": [
              "<Figure size 640x480 with 1 Axes>"
            ],
            "image/png": "[encoded data removed]"
          },
          "metadata": {}
        }
      ]
    }
  ],
  "metadata": {
    "kernelspec": {
      "display_name": "Python 3",
      "language": "python",
      "name": "python3"
    },
    "language_info": {
      "codemirror_mode": {
        "name": "ipython",
        "version": 3
      },
      "file_extension": ".py",
      "mimetype": "text/x-python",
      "name": "python",
      "nbconvert_exporter": "python",
      "pygments_lexer": "ipython3",
      "version": "3.7.12"
    },
    "papermill": {
      "default_parameters": {},
      "duration": 42.050744,
      "end_time": "2022-12-17T17:43:27.857835",
      "environment_variables": {},
      "exception": null,
      "input_path": "__notebook__.ipynb",
      "output_path": "__notebook__.ipynb",
      "parameters": {},
      "start_time": "2022-12-17T17:42:45.807091",
      "version": "2.3.4"
    },
    "colab": {
      "provenance": []
    }
  },
  "nbformat": 4,
  "nbformat_minor": 5
}